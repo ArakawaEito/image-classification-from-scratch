{
 "cells": [
  {
   "cell_type": "markdown",
   "id": "f22ded5c",
   "metadata": {},
   "source": [
    "## 訓練データの読み込みとHDF5への変換"
   ]
  },
  {
   "cell_type": "code",
   "execution_count": 1,
   "id": "864f9bbc",
   "metadata": {},
   "outputs": [],
   "source": [
    "import numpy as np\n",
    "import pandas as pd\n",
    "import matplotlib.pyplot as plt\n",
    "import pickle\n",
    "from tensorflow.keras.datasets import fashion_mnist\n",
    "from sklearn.preprocessing import OneHotEncoder"
   ]
  },
  {
   "cell_type": "markdown",
   "id": "ce803d80",
   "metadata": {},
   "source": [
    "### 訓練データの読み込み"
   ]
  },
  {
   "cell_type": "code",
   "execution_count": 2,
   "id": "8b29d19f",
   "metadata": {},
   "outputs": [
    {
     "name": "stdout",
     "output_type": "stream",
     "text": [
      "x_train.shape= (60000, 1, 28, 28)\n",
      "y_train.shape= (60000,)\n",
      "x_test.shape= (10000, 1, 28, 28)\n",
      "y_test.shape= (10000,)\n"
     ]
    }
   ],
   "source": [
    "from pathlib import Path\n",
    "\n",
    "path = Path(\".\")\n",
    "dir_path_data = path / \"data\"\n",
    "file_path_hdf5 = dir_path_data/\"train_data.hdf5\"\n",
    "\n",
    "(x_train, y_train), (x_test, y_test) = fashion_mnist.load_data()\n",
    "\n",
    "# channel次元追加\n",
    "x_train = x_train[:, np.newaxis]\n",
    "x_test = x_test[:, np.newaxis]\n",
    "\n",
    "print(\"x_train.shape=\", x_train.shape)\n",
    "print(\"y_train.shape=\", y_train.shape)\n",
    "print(\"x_test.shape=\", x_test.shape)\n",
    "print(\"y_test.shape=\", y_test.shape)"
   ]
  },
  {
   "cell_type": "markdown",
   "id": "58c327df",
   "metadata": {},
   "source": [
    "### データ拡張"
   ]
  },
  {
   "cell_type": "code",
   "execution_count": 3,
   "id": "b788909e",
   "metadata": {},
   "outputs": [
    {
     "name": "stdout",
     "output_type": "stream",
     "text": [
      "(20000, 1, 28, 28)\n",
      "(20000, 10)\n"
     ]
    }
   ],
   "source": [
    "import Augmentor\n",
    "\n",
    "p = Augmentor.DataPipeline(x_train, y_train.tolist())\n",
    "# 拡大\n",
    "p.zoom(probability=0.5, min_factor=1.1, max_factor=1.2)\n",
    "# # 回転\n",
    "# p.rotate(probability=0.5, max_left_rotation=10, max_right_rotation=10)\n",
    "# # 歪み\n",
    "# p.random_distortion(probability=0.5, grid_width=2, grid_height=2, magnitude=8)\n",
    "\n",
    "aug_x, aug_label= p.sample(20000)\n",
    "aug_x = np.array(aug_x)\n",
    "aug_label = np.array(aug_label).reshape(-1, 1)\n",
    "\n",
    "enc = OneHotEncoder(categories=\"auto\", sparse=False, dtype=np.float32)\n",
    "aug_label = enc.fit_transform(aug_label)\n",
    "\n",
    "print(aug_x.shape)\n",
    "print(aug_label.shape)"
   ]
  },
  {
   "cell_type": "code",
   "execution_count": 4,
   "id": "098ba4e7",
   "metadata": {},
   "outputs": [
    {
     "name": "stdout",
     "output_type": "stream",
     "text": [
      "x_train.shape= (80000, 1, 28, 28)\n",
      "y_train.shape= (80000, 10)\n"
     ]
    }
   ],
   "source": [
    "# 教師ラベルをonehotエンコード\n",
    "enc = OneHotEncoder(categories=\"auto\", sparse=False, dtype=np.float32)\n",
    "y_train=enc.fit_transform(y_train[:, np.newaxis])\n",
    "y_test=enc.fit_transform(y_test[:, np.newaxis])\n",
    "\n",
    "# 連結\n",
    "x_train = np.concatenate([x_train, aug_x], 0)\n",
    "y_train = np.concatenate([y_train, aug_label], 0)\n",
    "\n",
    "print(\"x_train.shape=\", x_train.shape)\n",
    "print(\"y_train.shape=\", y_train.shape)"
   ]
  },
  {
   "cell_type": "markdown",
   "id": "5b3a3293",
   "metadata": {},
   "source": [
    "### HDF5へ変換"
   ]
  },
  {
   "cell_type": "code",
   "execution_count": 5,
   "id": "1bad96bf",
   "metadata": {},
   "outputs": [],
   "source": [
    "import h5py\n",
    "\n",
    "with h5py.File(file_path_hdf5, mode='w') as f:  \n",
    "    f.create_dataset('x_train', x_train.shape, dtype = np.float32)\n",
    "    f.create_dataset('y_train', y_train.shape, dtype = np.int8)\n",
    "    \n",
    "    f['x_train'][...] = x_train\n",
    "    f['y_train'][...] = y_train"
   ]
  },
  {
   "cell_type": "code",
   "execution_count": 6,
   "id": "d382cc9d",
   "metadata": {
    "scrolled": true
   },
   "outputs": [
    {
     "name": "stdout",
     "output_type": "stream",
     "text": [
      "(80000, 1, 28, 28)\n",
      "(80000, 10)\n"
     ]
    }
   ],
   "source": [
    "with h5py.File(file_path_hdf5, mode='r') as f:  \n",
    "    dset = f['x_train']\n",
    "    dset_labels = f['y_train']\n",
    "    print(dset.shape)\n",
    "    print(dset_labels.shape)\n"
   ]
  },
  {
   "cell_type": "code",
   "execution_count": null,
   "id": "9ec26c9c",
   "metadata": {},
   "outputs": [],
   "source": []
  }
 ],
 "metadata": {
  "kernelspec": {
   "display_name": "Python 3 (ipykernel)",
   "language": "python",
   "name": "python3"
  },
  "language_info": {
   "codemirror_mode": {
    "name": "ipython",
    "version": 3
   },
   "file_extension": ".py",
   "mimetype": "text/x-python",
   "name": "python",
   "nbconvert_exporter": "python",
   "pygments_lexer": "ipython3",
   "version": "3.9.12"
  }
 },
 "nbformat": 4,
 "nbformat_minor": 5
}
