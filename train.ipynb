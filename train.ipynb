{
 "cells": [
  {
   "cell_type": "code",
   "execution_count": 1,
   "metadata": {},
   "outputs": [
    {
     "name": "stderr",
     "output_type": "stream",
     "text": [
      "C:\\Users\\arakawa eito\\anaconda3\\envs\\env-skillup\\lib\\site-packages\\scipy\\__init__.py:146: UserWarning: A NumPy version >=1.16.5 and <1.23.0 is required for this version of SciPy (detected version 1.23.0\n",
      "  warnings.warn(f\"A NumPy version >={np_minversion} and <{np_maxversion}\"\n"
     ]
    }
   ],
   "source": [
    "import numpy as np\n",
    "import pandas as pd\n",
    "import matplotlib.pyplot as plt\n",
    "from common.layers import FineSimpleConvNet, CustomNN\n",
    "from common.optimizer import Adam\n",
    "from sklearn.model_selection import train_test_split\n",
    "from sklearn.preprocessing import OneHotEncoder\n",
    "import Augmentor\n",
    "from keras.preprocessing import image\n",
    "import pickle\n",
    "import h5py\n"
   ]
  },
  {
   "cell_type": "code",
   "execution_count": 2,
   "metadata": {},
   "outputs": [],
   "source": [
    "class genSequence:\n",
    "    \"\"\"\n",
    "    データセットのジェネレータ\n",
    "    \"\"\"\n",
    "    def __init__(self, data_path, data_size, categoNum, X_name, y_name, batch_size, aug=False, augNum=None, idx=None):\n",
    "        \"\"\"\n",
    "        idx:使用するHDF5datasetのインデックスのリスト(ndarray)（訓練データとテストデータで分けるときなど）\n",
    "        categoNum：データのカテゴリ数\n",
    "        augNum：batch_size+augNum個のデータをイテレートする\n",
    "        \n",
    "        \"\"\"\n",
    "        self.iterCount = 0         # イテレーション回数\n",
    "        self.data_path = data_path #　HDF５の格納パス\n",
    "        self.data_size = data_size #　データ数\n",
    "        self.batch_size = batch_size\n",
    "        self.X_name = X_name       # hdf5ファイルのdataset名\n",
    "        self.y_name = y_name\n",
    "        self.aug = aug\n",
    "        self.augNum = augNum\n",
    "        self.idx = idx\n",
    "        self.categoNum = categoNum\n",
    "        \n",
    "        # 使用するデータをシャッフル\n",
    "        if isinstance(self.idx, np.ndarray):\n",
    "            self.data_size = len(self.idx)\n",
    "            np.random.shuffle(self.idx)\n",
    "        else:\n",
    "        # 全データを使用する\n",
    "            self.idx = np.arange(self.data_size)\n",
    "            np.random.shuffle(self.idx)\n",
    "\n",
    "    def __len__(self):\n",
    "        # イテレーション数を返す\n",
    "        return int(np.ceil(self.data_size / float(self.batch_size)))\n",
    "\n",
    "    def __getitem__(self, mask):\n",
    "        with h5py.File(self.data_path, 'r') as f:\n",
    "            batch_x = f[self.X_name][mask]\n",
    "            batch_y = f[self.y_name][mask]\n",
    "            \n",
    "            batch_x =self.preprocess(batch_x) # 前処理\n",
    "            \n",
    "            if self.aug:\n",
    "                batch_x, batch_y = self.augmentor(batch_x, batch_y, self.augNum)\n",
    "\n",
    "        return batch_x, batch_y\n",
    "\n",
    "    def __iter__(self):\n",
    "        return self\n",
    "    \n",
    "    def __next__(self):\n",
    "        if len(self) <= self.iterCount:\n",
    "            raise StopIteration\n",
    "        mask = self.idx[self.batch_size*self.iterCount : self.batch_size*(self.iterCount+1)]   \n",
    "        self.iterCount += 1        \n",
    "        \n",
    "        return self[np.sort(mask)]\n",
    "    \n",
    "    def preprocess(self, x):\n",
    "        x = (x- x.min()) / (x.max()-x.min())\n",
    "#         x /= 255.0\n",
    "        x = x.astype('float32')\n",
    "    \n",
    "        return x\n",
    "    \n",
    "    def augmentor(self, x, y, num):\n",
    "        \"\"\"\n",
    "        Parameters\n",
    "        ----------\n",
    "        y：ndarrayの正解ラベル(ワンホットベクトル)\n",
    "        num：生成する画像枚数\n",
    "        \"\"\"\n",
    "        params = {\n",
    "            \"height_shift_range\":0.005,\n",
    "            \"width_shift_range\": 0.005,\n",
    "            'zoom_range': 0.1,\n",
    "            'rotation_range': 10,\n",
    "            \"shear_range\":5\n",
    "        }\n",
    "        datagen = image.ImageDataGenerator(**params)\n",
    "        \n",
    "        aug_x = x.transpose((0, 2, 3, 1)).copy()\n",
    "        g = datagen.flow(aug_x, y, batch_size=num, shuffle=False)\n",
    "        aug_x, aug_label = g.next()    \n",
    "        aug_x = aug_x.transpose((0, 3, 1, 2))\n",
    "    \n",
    "        p = Augmentor.DataPipeline(aug_x, aug_label.argmax(axis=1).tolist())\n",
    "        # 拡大\n",
    "#         p.zoom(probability=0.7, min_factor=1.01, max_factor=1.06)\n",
    "#         # 回転\n",
    "#         p.rotate(probability=0.7, max_left_rotation=10, max_right_rotation=10)\n",
    "        # 歪み\n",
    "        p.random_distortion(probability=0.5, grid_width=1, grid_height=1, magnitude=8)\n",
    "\n",
    "        aug_x, aug_label= p.sample(num)\n",
    "        aug_x = np.array(aug_x)\n",
    "        aug_label = np.identity(self.categoNum)[aug_label]\n",
    "        \n",
    "        # 拡張後の画像確認\n",
    "#         for ind in range(len(aug_x)):\n",
    "#             img = aug_x[ind]\n",
    "#             label = aug_label[ind]    \n",
    "#             print(label)\n",
    "#             plt.imshow(img[0,:,:], cmap='gray')\n",
    "#             plt.show()\n",
    "\n",
    "\n",
    "        # 連結\n",
    "        x = np.concatenate([x, aug_x], 0)\n",
    "        y = np.concatenate([y, aug_label], 0)\n",
    "\n",
    "        return x, y"
   ]
  },
  {
   "cell_type": "markdown",
   "metadata": {},
   "source": [
    "### データセットの設定"
   ]
  },
  {
   "cell_type": "code",
   "execution_count": 3,
   "metadata": {},
   "outputs": [],
   "source": [
    "from pathlib import Path\n",
    "\n",
    "path = Path(\".\")\n",
    "Dir_path_data = path / \"data\"\n",
    "File_path_hdf5 = Dir_path_data/\"train_data.hdf5\"\n",
    "categoNum = 10"
   ]
  },
  {
   "cell_type": "markdown",
   "metadata": {},
   "source": [
    "#### 訓練データとテストデータを分割"
   ]
  },
  {
   "cell_type": "code",
   "execution_count": 4,
   "metadata": {},
   "outputs": [
    {
     "name": "stdout",
     "output_type": "stream",
     "text": [
      "全データ： 80000\n",
      "訓練データ数： 56000\n",
      "テストデータ数： 24000\n"
     ]
    }
   ],
   "source": [
    "with h5py.File(File_path_hdf5, mode='r') as dataset:\n",
    "    data_size = len(dataset['x_train'])\n",
    "    print(\"全データ：\", data_size)\n",
    "\n",
    "    test_size = 0.3\n",
    "    all_idx = np.arange(data_size)\n",
    "    np.random.shuffle(all_idx) \n",
    "    \n",
    "    # 訓練データに使用するidxとテストデータに使用するidxを設定\n",
    "    train_idx = all_idx[:int(data_size*(1-test_size))]\n",
    "    test_idx = all_idx[int(data_size*(1-test_size)):]\n",
    "    \n",
    "    print(\"訓練データ数：\", len(train_idx))\n",
    "    print(\"テストデータ数：\", len(test_idx))"
   ]
  },
  {
   "cell_type": "code",
   "execution_count": 5,
   "metadata": {},
   "outputs": [
    {
     "name": "stdout",
     "output_type": "stream",
     "text": [
      "X_test.shape= (24000, 1, 28, 28)\n",
      "y_test.shape= (24000, 10)\n"
     ]
    }
   ],
   "source": [
    "batch_size = 16\n",
    "test_dataset = genSequence(\n",
    "    data_path=File_path_hdf5, \n",
    "    data_size=len(test_idx), \n",
    "    categoNum=categoNum,\n",
    "    X_name=\"x_train\",\n",
    "    y_name=\"y_train\",\n",
    "    batch_size=batch_size*3,\n",
    "    idx=test_idx,\n",
    "    aug=False,\n",
    ") \n",
    "\n",
    "X_test = []\n",
    "y_test = []\n",
    "for batch_x, batch_y in test_dataset:\n",
    "    X_test.append(batch_x)\n",
    "    y_test.append(batch_y)\n",
    "\n",
    "# 連結\n",
    "X_test = np.concatenate(X_test, 0)\n",
    "y_test = np.concatenate(y_test, 0)\n",
    "print(\"X_test.shape=\", X_test.shape)\n",
    "print(\"y_test.shape=\", y_test.shape)"
   ]
  },
  {
   "cell_type": "markdown",
   "metadata": {},
   "source": [
    "## 学習"
   ]
  },
  {
   "cell_type": "code",
   "execution_count": 6,
   "metadata": {},
   "outputs": [
    {
     "name": "stdout",
     "output_type": "stream",
     "text": [
      "--------------------------------------------------\n",
      "Layer\t\t\tOutput Shape\n",
      "==================================================\n",
      "Input\t\t\t[None, 1, 28, 28]\n",
      "--------------------------------------------------\n",
      "Conv0\t\t\t[None, 16, 28, 28]\n",
      "--------------------------------------------------\n",
      "BatchNorm4D1\t\t[None, 16, 28, 28]\n",
      "--------------------------------------------------\n",
      "Relu2\t\t\t[None, 16, 28, 28]\n",
      "--------------------------------------------------\n",
      "Conv3\t\t\t[None, 16, 28, 28]\n",
      "--------------------------------------------------\n",
      "BatchNorm4D4\t\t[None, 16, 28, 28]\n",
      "--------------------------------------------------\n",
      "Relu5\t\t\t[None, 16, 28, 28]\n",
      "--------------------------------------------------\n",
      "MaxPool6\t\t[None, 16, 14, 14]\n",
      "--------------------------------------------------\n",
      "Conv7\t\t\t[None, 32, 14, 14]\n",
      "--------------------------------------------------\n",
      "BatchNorm4D8\t\t[None, 32, 14, 14]\n",
      "--------------------------------------------------\n",
      "Relu9\t\t\t[None, 32, 14, 14]\n",
      "--------------------------------------------------\n",
      "Conv10\t\t\t[None, 32, 14, 14]\n",
      "--------------------------------------------------\n",
      "BatchNorm4D11\t\t[None, 32, 14, 14]\n",
      "--------------------------------------------------\n",
      "Relu12\t\t\t[None, 32, 14, 14]\n",
      "--------------------------------------------------\n",
      "MaxPool13\t\t[None, 32, 7, 7]\n",
      "--------------------------------------------------\n",
      "Conv14\t\t\t[None, 64, 7, 7]\n",
      "--------------------------------------------------\n",
      "BatchNorm4D15\t\t[None, 64, 7, 7]\n",
      "--------------------------------------------------\n",
      "Relu16\t\t\t[None, 64, 7, 7]\n",
      "--------------------------------------------------\n",
      "Conv17\t\t\t[None, 64, 7, 7]\n",
      "--------------------------------------------------\n",
      "BatchNorm4D18\t\t[None, 64, 7, 7]\n",
      "--------------------------------------------------\n",
      "Relu19\t\t\t[None, 64, 7, 7]\n",
      "--------------------------------------------------\n",
      "MaxPool20\t\t[None, 64, 3, 3]\n",
      "--------------------------------------------------\n",
      "Affine21\t\t[None, 100]\n",
      "--------------------------------------------------\n",
      "BatchNorm2D22\t\t[None, 100]\n",
      "--------------------------------------------------\n",
      "Dropout23\t\t[None, 100]\n",
      "--------------------------------------------------\n",
      "Relu24\t\t\t[None, 100]\n",
      "--------------------------------------------------\n",
      "Affine25\t\t[None, 10]\n",
      "--------------------------------------------------\n",
      "Relu26\t\t\t[None, 10]\n",
      "--------------------------------------------------\n"
     ]
    }
   ],
   "source": [
    "# CNN\n",
    "tnet = CustomNN(input_dim=(1, 28, 28))\n",
    "\n",
    "# optimizer\n",
    "optimizer = Adam()\n",
    "\n",
    "epochs = 10\n",
    "lr = 0.0001"
   ]
  },
  {
   "cell_type": "code",
   "execution_count": 7,
   "metadata": {
    "scrolled": false
   },
   "outputs": [
    {
     "name": "stdout",
     "output_type": "stream",
     "text": [
      "epoch=0\n",
      "test_loss: 2.7397170520427117\n",
      "モデルが更新されました\n",
      "test_accuracy: 0.871125\n",
      "epoch=1\n",
      "test_loss: 3.126912597945769\n",
      "test_accuracy: 0.8697916666666666\n",
      "epoch=2\n",
      "test_loss: 3.4377953086026256\n",
      "test_accuracy: 0.8815833333333334\n",
      "epoch=3\n",
      "test_loss: 3.8121580409947584\n",
      "test_accuracy: 0.8735833333333334\n",
      "epoch=4\n",
      "test_loss: 4.231030386515675\n",
      "test_accuracy: 0.858375\n",
      "epoch=5\n",
      "test_loss: 4.5311632109184625\n",
      "test_accuracy: 0.88975\n",
      "epoch=6\n",
      "test_loss: 4.8930174510953055\n",
      "test_accuracy: 0.8900833333333333\n",
      "epoch=7\n",
      "test_loss: 5.211938574877574\n",
      "test_accuracy: 0.8912916666666667\n",
      "epoch=8\n",
      "test_loss: 5.5401321669004115\n",
      "test_accuracy: 0.879625\n",
      "epoch=9\n",
      "test_loss: 5.858505112939713\n",
      "test_accuracy: 0.8814166666666666\n"
     ]
    }
   ],
   "source": [
    "train_loss = []\n",
    "test_loss = []\n",
    "train_accuracy = []\n",
    "test_accuracy = []\n",
    "min_loss = 100 # lossの最小値を記録\n",
    "for epoch in range(epochs):\n",
    "    print(\"epoch=%s\"%epoch)\n",
    "    \n",
    "    train_dataset  = genSequence(\n",
    "        data_path=File_path_hdf5, \n",
    "        data_size=len(train_idx), \n",
    "        categoNum=categoNum,\n",
    "        X_name=\"x_train\",\n",
    "        y_name=\"y_train\",\n",
    "        batch_size=batch_size,\n",
    "        idx=train_idx,\n",
    "        aug=True, \n",
    "        augNum=batch_size*2\n",
    "    )  \n",
    "\n",
    "    val_dataset  = genSequence(\n",
    "        data_path=File_path_hdf5, \n",
    "        data_size=len(test_idx), \n",
    "        categoNum=categoNum,\n",
    "        X_name=\"x_train\",\n",
    "        y_name=\"y_train\",\n",
    "        batch_size=batch_size,\n",
    "        idx=test_idx,\n",
    "        aug=False,\n",
    "    )  \n",
    "\n",
    "    train_batch_loss=[]\n",
    "    for batch_x, batch_y in train_dataset:\n",
    "        \"\"\"\n",
    "        ランダムなミニバッチを順番に取り出す\n",
    "        \"\"\"\n",
    "        # 勾配の計算\n",
    "        grads = tnet.gradient(batch_x, batch_y)\n",
    "#         print(tnet.params[\"MM1\"])\n",
    "        # 更新\n",
    "        optimizer.update(tnet.params, grads)\n",
    "\n",
    "        # train_lossの取得\n",
    "        train_batch_loss.append(tnet.loss(batch_x, batch_y))\n",
    "\n",
    "    test_batch_loss=[]\n",
    "    for batch_x, batch_y in val_dataset :\n",
    "        test_batch_loss.append(tnet.loss(batch_x, batch_y))\n",
    "        \n",
    "\n",
    "\n",
    "    \"\"\" 学習経過の記録 \"\"\" \n",
    "    # 訓練データにおけるloss\n",
    "    train_loss.append(np.mean(train_batch_loss))\n",
    "    \n",
    "    # 検証データにおけるloss\n",
    "    tmp = np.mean(test_batch_loss)\n",
    "    test_loss.append(tmp)\n",
    "    print(\"test_loss:\", tmp)    \n",
    "    \n",
    "    # 最小lossが更新されたらその時点のモデルとパラメータを保存\n",
    "    if tmp < min_loss:\n",
    "        min_loss = tmp\n",
    "        print(\"モデルが更新されました\")\n",
    "        with open(\"model.pickle\", \"wb\") as f:\n",
    "            pickle.dump(tnet, f)\n",
    "            \n",
    "        with open(\"params.pickle\", mode='wb') as f:\n",
    "            pickle.dump(tnet.params,f)\n",
    "\n",
    "    # テストデータにて精度を算出\n",
    "    tmp = tnet.accuracy(X_test, y_test)\n",
    "    test_accuracy.append(tmp)\n",
    "    print(\"test_accuracy:\", tmp)"
   ]
  },
  {
   "cell_type": "code",
   "execution_count": 8,
   "metadata": {
    "scrolled": true
   },
   "outputs": [
    {
     "name": "stdout",
     "output_type": "stream",
     "text": [
      "[0.871125, 0.8697916666666666, 0.8815833333333334, 0.8735833333333334, 0.858375, 0.88975, 0.8900833333333333, 0.8912916666666667, 0.879625, 0.8814166666666666]\n"
     ]
    },
    {
     "data": {
      "image/png": "[encoded data removed]",
      "text/plain": [
       "<Figure size 432x288 with 1 Axes>"
      ]
     },
     "metadata": {
      "needs_background": "light"
     },
     "output_type": "display_data"
    }
   ],
   "source": [
    "# lossのグラフ化\n",
    "print(test_accuracy)\n",
    "df_log = pd.DataFrame({\"train_loss\":train_loss,\n",
    "             \"test_loss\":test_loss,\n",
    "#              \"train_accuracy\":train_accuracy,\n",
    "             \"test_accuracy\":test_accuracy})\n",
    "df_log.plot()\n",
    "plt.ylabel(\"loss or accuracy\")\n",
    "plt.xlabel(\"epochs\")\n",
    "plt.show()"
   ]
  },
  {
   "cell_type": "markdown",
   "metadata": {},
   "source": [
    "## 重みをloadしてモデルに展開"
   ]
  },
  {
   "cell_type": "code",
   "execution_count": 9,
   "metadata": {
    "scrolled": true
   },
   "outputs": [
    {
     "name": "stdout",
     "output_type": "stream",
     "text": [
      "--------------------------------------------------\n",
      "Layer\t\t\tOutput Shape\n",
      "==================================================\n",
      "Input\t\t\t[None, 1, 28, 28]\n",
      "--------------------------------------------------\n",
      "Conv0\t\t\t[None, 16, 28, 28]\n",
      "--------------------------------------------------\n",
      "BatchNorm4D1\t\t[None, 16, 28, 28]\n",
      "--------------------------------------------------\n",
      "Relu2\t\t\t[None, 16, 28, 28]\n",
      "--------------------------------------------------\n",
      "Conv3\t\t\t[None, 16, 28, 28]\n",
      "--------------------------------------------------\n",
      "BatchNorm4D4\t\t[None, 16, 28, 28]\n",
      "--------------------------------------------------\n",
      "Relu5\t\t\t[None, 16, 28, 28]\n",
      "--------------------------------------------------\n",
      "MaxPool6\t\t[None, 16, 14, 14]\n",
      "--------------------------------------------------\n",
      "Conv7\t\t\t[None, 32, 14, 14]\n",
      "--------------------------------------------------\n",
      "BatchNorm4D8\t\t[None, 32, 14, 14]\n",
      "--------------------------------------------------\n",
      "Relu9\t\t\t[None, 32, 14, 14]\n",
      "--------------------------------------------------\n",
      "Conv10\t\t\t[None, 32, 14, 14]\n",
      "--------------------------------------------------\n",
      "BatchNorm4D11\t\t[None, 32, 14, 14]\n",
      "--------------------------------------------------\n",
      "Relu12\t\t\t[None, 32, 14, 14]\n",
      "--------------------------------------------------\n",
      "MaxPool13\t\t[None, 32, 7, 7]\n",
      "--------------------------------------------------\n",
      "Conv14\t\t\t[None, 64, 7, 7]\n",
      "--------------------------------------------------\n",
      "BatchNorm4D15\t\t[None, 64, 7, 7]\n",
      "--------------------------------------------------\n",
      "Relu16\t\t\t[None, 64, 7, 7]\n",
      "--------------------------------------------------\n",
      "Conv17\t\t\t[None, 64, 7, 7]\n",
      "--------------------------------------------------\n",
      "BatchNorm4D18\t\t[None, 64, 7, 7]\n",
      "--------------------------------------------------\n",
      "Relu19\t\t\t[None, 64, 7, 7]\n",
      "--------------------------------------------------\n",
      "MaxPool20\t\t[None, 64, 3, 3]\n",
      "--------------------------------------------------\n",
      "Affine21\t\t[None, 100]\n",
      "--------------------------------------------------\n",
      "BatchNorm2D22\t\t[None, 100]\n",
      "--------------------------------------------------\n",
      "Dropout23\t\t[None, 100]\n",
      "--------------------------------------------------\n",
      "Relu24\t\t\t[None, 100]\n",
      "--------------------------------------------------\n",
      "Affine25\t\t[None, 10]\n",
      "--------------------------------------------------\n",
      "Relu26\t\t\t[None, 10]\n",
      "--------------------------------------------------\n"
     ]
    }
   ],
   "source": [
    "model = CustomNN(input_dim=(1, 28, 28))"
   ]
  },
  {
   "cell_type": "code",
   "execution_count": 10,
   "metadata": {},
   "outputs": [],
   "source": [
    "with open(\"params.pickle\", \"rb\") as f:\n",
    "    params = pickle.load(f)"
   ]
  },
  {
   "cell_type": "code",
   "execution_count": 11,
   "metadata": {
    "scrolled": true
   },
   "outputs": [],
   "source": [
    "# print(model.trainLayers)\n",
    "for idx, (key, layer) in enumerate(model.layers.items()):\n",
    "    \"\"\"\n",
    "    idx:何番目の層か\n",
    "    \"\"\"\n",
    "    # print(key)\n",
    "    if idx in model.trainLayers:\n",
    "        if \"BatchNorm\" in key:\n",
    "#             print(\"BatchNorm update\")\n",
    "            layer.dgamma = params['W' + str(idx)]\n",
    "            layer.dbeta = params['b' + str(idx)]\n",
    "            layer.moving_mean = params[\"MM\"+str(idx)]\n",
    "            layer.moving_var = params[\"MV\"+str(idx)]\n",
    "#             print(params[\"MM\"+str(idx)])\n",
    "#             print(layer.moving_mean)\n",
    "#             print(layer.moving_var)\n",
    "            model.params['W' + str(idx)] = params['W' + str(idx)]\n",
    "            model.params['b' + str(idx)] = params['b' + str(idx)]\n",
    "            model.params[\"MM\"+str(idx)] = params[\"MM\"+str(idx)]\n",
    "            model.params[\"MV\"+str(idx)] = params[\"MV\"+str(idx)]\n",
    "        else:\n",
    "            layer.W = params['W' + str(idx)]\n",
    "            layer.b = params['b' + str(idx)]\n",
    "            model.params['W' + str(idx)] = params['W' + str(idx)]\n",
    "            model.params['b' + str(idx)] = params['b' + str(idx)]\n",
    "            \n",
    "# print(model.params)"
   ]
  },
  {
   "cell_type": "markdown",
   "metadata": {},
   "source": [
    "## テスト"
   ]
  },
  {
   "cell_type": "code",
   "execution_count": 12,
   "metadata": {},
   "outputs": [
    {
     "data": {
      "text/plain": [
       "(0.8532916666666667, 2.8999423254863608)"
      ]
     },
     "execution_count": 12,
     "metadata": {},
     "output_type": "execute_result"
    }
   ],
   "source": [
    "accuracy = model.accuracy(X_test, y_test)\n",
    "loss  = model.loss(X_test, y_test)\n",
    "\n",
    "accuracy, loss"
   ]
  },
  {
   "cell_type": "code",
   "execution_count": null,
   "metadata": {},
   "outputs": [],
   "source": []
  }
 ],
 "metadata": {
  "kernelspec": {
   "display_name": "Python 3 (ipykernel)",
   "language": "python",
   "name": "python3"
  },
  "language_info": {
   "codemirror_mode": {
    "name": "ipython",
    "version": 3
   },
   "file_extension": ".py",
   "mimetype": "text/x-python",
   "name": "python",
   "nbconvert_exporter": "python",
   "pygments_lexer": "ipython3",
   "version": "3.9.12"
  },
  "toc": {
   "base_numbering": 1,
   "nav_menu": {},
   "number_sections": true,
   "sideBar": true,
   "skip_h1_title": false,
   "title_cell": "Table of Contents",
   "title_sidebar": "Contents",
   "toc_cell": false,
   "toc_position": {},
   "toc_section_display": true,
   "toc_window_display": false
  }
 },
 "nbformat": 4,
 "nbformat_minor": 2
}
